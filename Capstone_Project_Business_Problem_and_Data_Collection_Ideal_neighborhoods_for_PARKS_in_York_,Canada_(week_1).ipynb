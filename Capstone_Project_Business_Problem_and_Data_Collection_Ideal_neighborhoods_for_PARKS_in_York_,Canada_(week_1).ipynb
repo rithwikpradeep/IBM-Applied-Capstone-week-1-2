{
  "nbformat": 4,
  "nbformat_minor": 0,
  "metadata": {
    "colab": {
      "name": "Capstone Project -Business Problem and Data Collection -Ideal neighborhoods for PARKS in York ,Canada -(week 1)",
      "provenance": [],
      "collapsed_sections": [],
      "authorship_tag": "ABX9TyNM/Qj3FWb5ppz1frc/tjFJ"
    },
    "kernelspec": {
      "name": "python3",
      "display_name": "Python 3"
    }
  },
  "cells": [
    {
      "cell_type": "markdown",
      "metadata": {
        "id": "K2z2YjE2vS4g"
      },
      "source": [
        "# **Introduction /Business Problem**\r\n",
        "\r\n",
        "Let's start of with the location\r\n",
        "### **York,Canada**\r\n",
        "\r\n",
        "York is a former city within the current city of Toronto, Ontario, Canada. It is located northwest of Old Toronto, southwest of North York and east of Etobicoke, where it is bounded by the Humber River. As a separate city, it was one of six municipalities that amalgamated in 1998 to form the current city of Toronto.\r\n",
        "\r\n",
        "In 1998 it amalgamated with the cities of Toronto, Etobicoke, Scarborough, and North York and the borough of East York to form the City of Toronto. York was established as a borough in 1967, through the amalgamation of the township of York and the town of Weston (incorporated 1881). It was incorporated as a city in 1983. The original York Township was formed in 1793, and it was once called Dublin.\r\n"
      ]
    },
    {
      "cell_type": "markdown",
      "metadata": {
        "id": "hir1Jek2wYEw"
      },
      "source": [
        "***Objective*** :\r\n",
        "To find the neighborhoods that do not have parks in York, Canada . We also aim to find the neighborhoods that already have parks in their neighborhood ,which can be enjoyed by those looking for it."
      ]
    },
    {
      "cell_type": "markdown",
      "metadata": {
        "id": "8T_CSaCmwNE1"
      },
      "source": [
        "### Who will find this analysis beneficial?"
      ]
    },
    {
      "cell_type": "markdown",
      "metadata": {
        "id": "RvwYa9pFwB93"
      },
      "source": [
        "***Purpose*** : This analysis will be useful to those who are planning to construct a park based on whether the neighborhoods in York ,Canada already contain an existing park or not. It will also be beneficial to those choosing a residential or office space depending on which neighborhoods have a Park or not.\r\n",
        "This will help the people who seek or are trying to avoid parks in the vicinity of their neighborhood ,be it for professional reasons or for private reasons.\r\n",
        "\r\n",
        "Constructing parks in areas where parks don't already exist would make more sense as it will bring in more residents or people which could include the youth , families ,pet owners , fitness enthusiasts or just regular folks who are trying to get away from the digital world for a bit.\r\n",
        "\r\n",
        "It also allows people in York looking to avoid parks in their vicinity which maybe due to health reasons such as allergies or the increased rent due to the availability of such amenities or maybe just a personal preference altogether."
      ]
    },
    {
      "cell_type": "markdown",
      "metadata": {
        "id": "qgW5C6Q6yaFP"
      },
      "source": [
        "\r\n",
        "\r\n",
        "---\r\n",
        "\r\n",
        "---\r\n",
        "\r\n",
        "\r\n",
        "\r\n"
      ]
    },
    {
      "cell_type": "markdown",
      "metadata": {
        "id": "ar_zrUHSyb8d"
      },
      "source": [
        "# **Data collection**\r\n",
        "\r\n",
        "## ***Postal Codes of Canada*** :\r\n",
        "The data which consists of the Postal codes of Canada starting with the letter \"m\" is taken from the Wikipedia page : \"https://en.wikipedia.org/wiki/List_of_postal_codes_of_Canada:_M\"\r\n",
        "The data is scraped from a Wikipedia page and then loaded into a Pandas dataframe. This is done using the read_html method.\r\n",
        "\r\n",
        "The data is then cleaned by dropping rows where borough values are \"Not Assigned \" as they have no value to our cause.\r\n",
        "\r\n",
        "## ***Geospatial data***\r\n",
        "The Geospatial data is available in the form of a CSV file in \"https://cocl.us/Geospatial_data\" .We extract the data from CSV file to panda dataframe. It contains the Latitude and longitude data against the postal codes which are required to identify the location on the maps.\r\n",
        "\r\n",
        "\r\n",
        "## ***Foursquare API*** : \r\n",
        "The Foursquare Places API provides location based experiences with diverse information about venues, users, photos, and check-ins. The API supports real time access to places, Snap-to-Place that assigns users to specific locations, and Geo-tag. Additionally, Foursquare allows developers to build audience segments for analysis and measurement. JSON is the preferred response format.\r\n",
        "\r\n",
        "The Foursquare API allows application developers to interact with the Foursquare platform. The API itself is a RESTful set of addresses to which you can send requests, so there's really nothing to download onto your server. There are both GET and POST methods you can use, which means you aren't just limited to reading from feeds, you can also do useful stuff like checking in and creating locations using the API. As for rate limits, your application is limited to 200 requests per hour per method, so you probably want to implement some kind of result caching to \"play nice.\"\r\n",
        "\r\n",
        "\r\n",
        "\r\n"
      ]
    },
    {
      "cell_type": "markdown",
      "metadata": {
        "id": "YQmPX3r31-2t"
      },
      "source": [
        "# **Machine Learning Algorithm Used**\r\n",
        "\r\n",
        "## ***One Hot Encoding***\r\n",
        "For categorical variables where no such ordinal relationship exists, the integer encoding is not enough.\r\n",
        "\r\n",
        "In fact, using this encoding and allowing the model to assume a natural ordering between categories may result in poor performance or unexpected results (predictions halfway between categories).\r\n",
        "\r\n",
        "In this case, a one-hot encoding can be applied to the integer representation. This is where the integer encoded variable is removed and a new binary variable is added for each unique integer value\r\n",
        "\r\n",
        "Here we use one-hot encoding of the data using the get_dummies() method. Then we group the new one-hot encoded dataset by neighborhood. This is done to find out the common venues in each neighborhood by their means. This helps to find out which neighborhoods have pre-built gyms (mean > 0) and which neighborhoods do not. \r\n",
        "\r\n",
        "## ***K- Means Clustering***\r\n",
        "K-means clustering is one of the simplest and popular unsupervised machine learning algorithms.\r\n",
        "The objective of K-means is simple: group similar data points together and discover underlying patterns. To achieve this objective, K-means looks for a fixed number (k) of clusters in a dataset.”\r\n",
        "A cluster refers to a collection of data points aggregated together because of certain similarities.\r\n",
        "You’ll define a target number k, which refers to the number of centroids you need in the dataset. A centroid is the imaginary or real location representing the center of the cluster.\r\n",
        "Every data point is allocated to each of the clusters through reducing the in-cluster sum of squares.\r\n",
        "In other words, the K-means algorithm identifies k number of centroids, and then allocates every data point to the nearest cluster, while keeping the centroids as small as possible.\r\n",
        "The ‘means’ in the K-means refers to averaging of the data; that is, finding the centroid.\r\n",
        "\r\n",
        "Here ,we use k -means to cluster the neighnorhoods with and without parks."
      ]
    },
    {
      "cell_type": "markdown",
      "metadata": {
        "id": "iECdauqA2DNU"
      },
      "source": [
        "### **Libraries Used** :\r\n",
        "\r\n",
        "**Pandas , numpy**: for data manipulation and efficient handling\r\n",
        "\r\n",
        "**Matplotlib, Seaborn**: Data visualization and plotting libraries\r\n",
        "\r\n",
        "**Folium**:Python library used for visualizing geospatial data.\r\n",
        "\r\n",
        "**Geocoder**: Python library to convert an address into latitude and longitude values\r\n",
        "\r\n",
        "**JSON**: Library to handle and parse JSON files\r\n",
        "\r\n",
        "**requests**: Library to handle requests\r\n"
      ]
    },
    {
      "cell_type": "code",
      "metadata": {
        "id": "1T9DE0fJ2AKM"
      },
      "source": [
        ""
      ],
      "execution_count": null,
      "outputs": []
    }
  ]
}